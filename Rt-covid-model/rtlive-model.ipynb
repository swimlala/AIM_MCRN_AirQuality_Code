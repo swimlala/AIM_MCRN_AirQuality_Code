{
 "cells": [
  {
   "cell_type": "markdown",
   "metadata": {},
   "source": [
    "# Rt Live Model"
   ]
  },
  {
   "cell_type": "code",
   "execution_count": 1,
   "metadata": {},
   "outputs": [],
   "source": [
    "%load_ext autoreload\n",
    "%autoreload 2\n",
    "\n",
    "import warnings\n",
    "warnings.filterwarnings(action='ignore')\n",
    "import pymc3 as pm\n",
    "import pandas as pd\n",
    "import numpy as np\n",
    "import arviz as az\n",
    "from matplotlib import pyplot as plt\n",
    "from covid.models.generative import GenerativeModel\n",
    "from covid.data import summarize_inference_data\n",
    "%config InlineBackend.figure_format = 'retina'\n",
    "\n",
    "from covid.data import get_and_process_covidtracking_data, summarize_inference_data"
   ]
  },
  {
   "cell_type": "markdown",
   "metadata": {},
   "source": [
    "## Fetch data and select the state's data"
   ]
  },
  {
   "cell_type": "code",
   "execution_count": 2,
   "metadata": {},
   "outputs": [
    {
     "name": "stdout",
     "output_type": "stream",
     "text": [
      "                        positive  total\n",
      "region      date                       \n",
      "Alessandria 2020-03-03         1      5\n",
      "            2020-03-04        15     49\n",
      "            2020-03-05         6      0\n",
      "            2020-03-06        10     71\n",
      "            2020-03-07         8     32\n",
      "...                          ...    ...\n",
      "Vicenza     2020-07-16         1     95\n",
      "            2020-07-18         1     88\n",
      "            2020-07-20         1     30\n",
      "            2020-07-21         1    115\n",
      "            2020-07-22         1     74\n",
      "\n",
      "[4180 rows x 2 columns]\n"
     ]
    }
   ],
   "source": [
    "df = get_and_process_covidtracking_data(run_date=pd.Timestamp.today()-pd.Timedelta(days=1))\n",
    "print(df)"
   ]
  },
  {
   "cell_type": "code",
   "execution_count": null,
   "metadata": {
    "scrolled": true
   },
   "outputs": [
    {
     "name": "stderr",
     "output_type": "stream",
     "text": [
      "Only 200 samples in chain.\n",
      "Auto-assigning NUTS sampler...\n",
      "Initializing NUTS using jitter+adapt_diag...\n",
      "Multiprocess sampling (4 chains in 4 jobs)\n",
      "NUTS: [alpha, seed, log_r_t]\n"
     ]
    },
    {
     "data": {
      "text/html": [
       "\n",
       "    <div>\n",
       "        <style>\n",
       "            /* Turns off some styling */\n",
       "            progress {\n",
       "                /* gets rid of default border in Firefox and Opera. */\n",
       "                border: none;\n",
       "                /* Needs to be in here for Safari polyfill so background images work as expected. */\n",
       "                background-size: auto;\n",
       "            }\n",
       "            .progress-bar-interrupted, .progress-bar-interrupted::-webkit-progress-bar {\n",
       "                background: #F44336;\n",
       "            }\n",
       "        </style>\n",
       "      <progress value='3600' class='' max='3600' style='width:300px; height:20px; vertical-align: middle;'></progress>\n",
       "      100.00% [3600/3600 2:41:08<00:00 Sampling 4 chains, 0 divergences]\n",
       "    </div>\n",
       "    "
      ],
      "text/plain": [
       "<IPython.core.display.HTML object>"
      ]
     },
     "metadata": {},
     "output_type": "display_data"
    },
    {
     "name": "stderr",
     "output_type": "stream",
     "text": [
      "Sampling 4 chains for 700 tune and 200 draw iterations (2_800 + 800 draws total) took 9684 seconds.\n"
     ]
    },
    {
     "data": {
      "text/html": [
       "\n",
       "    <div>\n",
       "        <style>\n",
       "            /* Turns off some styling */\n",
       "            progress {\n",
       "                /* gets rid of default border in Firefox and Opera. */\n",
       "                border: none;\n",
       "                /* Needs to be in here for Safari polyfill so background images work as expected. */\n",
       "                background-size: auto;\n",
       "            }\n",
       "            .progress-bar-interrupted, .progress-bar-interrupted::-webkit-progress-bar {\n",
       "                background: #F44336;\n",
       "            }\n",
       "        </style>\n",
       "      <progress value='800' class='' max='800' style='width:300px; height:20px; vertical-align: middle;'></progress>\n",
       "      100.00% [800/800 00:12<00:00]\n",
       "    </div>\n",
       "    "
      ],
      "text/plain": [
       "<IPython.core.display.HTML object>"
      ]
     },
     "metadata": {},
     "output_type": "display_data"
    },
    {
     "name": "stderr",
     "output_type": "stream",
     "text": [
      "Only 200 samples in chain.\n",
      "Auto-assigning NUTS sampler...\n",
      "Initializing NUTS using jitter+adapt_diag...\n",
      "Multiprocess sampling (4 chains in 4 jobs)\n",
      "NUTS: [alpha, seed, log_r_t]\n"
     ]
    },
    {
     "data": {
      "text/html": [
       "\n",
       "    <div>\n",
       "        <style>\n",
       "            /* Turns off some styling */\n",
       "            progress {\n",
       "                /* gets rid of default border in Firefox and Opera. */\n",
       "                border: none;\n",
       "                /* Needs to be in here for Safari polyfill so background images work as expected. */\n",
       "                background-size: auto;\n",
       "            }\n",
       "            .progress-bar-interrupted, .progress-bar-interrupted::-webkit-progress-bar {\n",
       "                background: #F44336;\n",
       "            }\n",
       "        </style>\n",
       "      <progress value='3600' class='' max='3600' style='width:300px; height:20px; vertical-align: middle;'></progress>\n",
       "      100.00% [3600/3600 2:35:06<00:00 Sampling 4 chains, 0 divergences]\n",
       "    </div>\n",
       "    "
      ],
      "text/plain": [
       "<IPython.core.display.HTML object>"
      ]
     },
     "metadata": {},
     "output_type": "display_data"
    },
    {
     "name": "stderr",
     "output_type": "stream",
     "text": [
      "Sampling 4 chains for 700 tune and 200 draw iterations (2_800 + 800 draws total) took 9322 seconds.\n"
     ]
    },
    {
     "data": {
      "text/html": [
       "\n",
       "    <div>\n",
       "        <style>\n",
       "            /* Turns off some styling */\n",
       "            progress {\n",
       "                /* gets rid of default border in Firefox and Opera. */\n",
       "                border: none;\n",
       "                /* Needs to be in here for Safari polyfill so background images work as expected. */\n",
       "                background-size: auto;\n",
       "            }\n",
       "            .progress-bar-interrupted, .progress-bar-interrupted::-webkit-progress-bar {\n",
       "                background: #F44336;\n",
       "            }\n",
       "        </style>\n",
       "      <progress value='800' class='' max='800' style='width:300px; height:20px; vertical-align: middle;'></progress>\n",
       "      100.00% [800/800 00:11<00:00]\n",
       "    </div>\n",
       "    "
      ],
      "text/plain": [
       "<IPython.core.display.HTML object>"
      ]
     },
     "metadata": {},
     "output_type": "display_data"
    },
    {
     "name": "stderr",
     "output_type": "stream",
     "text": [
      "Only 200 samples in chain.\n",
      "Auto-assigning NUTS sampler...\n",
      "Initializing NUTS using jitter+adapt_diag...\n",
      "Multiprocess sampling (4 chains in 4 jobs)\n",
      "NUTS: [alpha, seed, log_r_t]\n"
     ]
    },
    {
     "data": {
      "text/html": [
       "\n",
       "    <div>\n",
       "        <style>\n",
       "            /* Turns off some styling */\n",
       "            progress {\n",
       "                /* gets rid of default border in Firefox and Opera. */\n",
       "                border: none;\n",
       "                /* Needs to be in here for Safari polyfill so background images work as expected. */\n",
       "                background-size: auto;\n",
       "            }\n",
       "            .progress-bar-interrupted, .progress-bar-interrupted::-webkit-progress-bar {\n",
       "                background: #F44336;\n",
       "            }\n",
       "        </style>\n",
       "      <progress value='632' class='' max='3600' style='width:300px; height:20px; vertical-align: middle;'></progress>\n",
       "      17.56% [632/3600 21:32<1:41:08 Sampling 4 chains, 0 divergences]\n",
       "    </div>\n",
       "    "
      ],
      "text/plain": [
       "<IPython.core.display.HTML object>"
      ]
     },
     "metadata": {},
     "output_type": "display_data"
    }
   ],
   "source": [
    "#regions = np.array([\"bologna\", \"turin\", \"rome\", \"florence\", \"milan\", \"brescia\", \"parma\", \"modena\"]) #already done\n",
    "#regions = np.array([\"Napoli\", \"Piacenza\", \"Reggio\", \"Rimini\", \"Varese\", \"Como\"]) #Bennet\n",
    "#regions = np.array([\"Bergamo\", \"Pavia\", \"Cremona\", \"Mantova\", \"Lecco\", \"Lodi\"]) #Laura\n",
    "regions = np.array([\"Monza\", \"Bolzano\", \"Cuneo\", \"Alessandria\", \"Verona\"]) #Paulina\n",
    "\n",
    "for region in regions:\n",
    "    model_data = df.loc[region]\n",
    "    gm = GenerativeModel(region, model_data)\n",
    "    gm.sample()\n",
    "    result = summarize_inference_data(gm.inference_data)\n",
    "    filename = region + \"_result.csv\"\n",
    "    result.to_csv(filename)"
   ]
  },
  {
   "cell_type": "markdown",
   "metadata": {},
   "source": [
    "## Create the model instance and sample"
   ]
  },
  {
   "cell_type": "code",
   "execution_count": null,
   "metadata": {},
   "outputs": [],
   "source": []
  },
  {
   "cell_type": "markdown",
   "metadata": {},
   "source": [
    "## Summarize Model Output"
   ]
  },
  {
   "cell_type": "code",
   "execution_count": null,
   "metadata": {},
   "outputs": [],
   "source": []
  },
  {
   "cell_type": "code",
   "execution_count": null,
   "metadata": {},
   "outputs": [],
   "source": []
  },
  {
   "cell_type": "markdown",
   "metadata": {},
   "source": [
    "## Plot Model Output"
   ]
  },
  {
   "cell_type": "code",
   "execution_count": null,
   "metadata": {},
   "outputs": [],
   "source": [
    "\n",
    "#fig, ax = plt.subplots(figsize=(10,5))\n",
    "#result.test_adjusted_positive.plot(c=\"g\", label=\"Test-adjusted\")\n",
    "#result.test_adjusted_positive_raw.plot(c=\"g\", alpha=.5, label=\"Test-adjusted (raw)\", style=\"--\")\n",
    "#result.infections.plot(c=\"b\", label=\"Infections\")\n",
    "#gm.observed.positive.plot(c='r', alpha=.7, label=\"Reported Positives\")\n",
    "#fig.set_facecolor('w')\n",
    "#ax.legend();"
   ]
  },
  {
   "cell_type": "code",
   "execution_count": null,
   "metadata": {},
   "outputs": [],
   "source": [
    "\"\"\" fig, ax = plt.subplots(figsize=(10,5))\n",
    "\n",
    "ax.set_title(f\"{region} $R_t$\")\n",
    "samples = gm.trace['r_t']\n",
    "x=result.index\n",
    "cmap = plt.get_cmap(\"Reds\")\n",
    "percs = np.linspace(51, 99, 40)\n",
    "colors = (percs - np.min(percs)) / (np.max(percs) - np.min(percs))\n",
    "samples = samples.T\n",
    "\n",
    "result[\"median\"].plot(c=\"k\", ls='-')\n",
    "\n",
    "for i, p in enumerate(percs[::-1]):\n",
    "    upper = np.percentile(samples, p, axis=1)\n",
    "    lower = np.percentile(samples, 100-p, axis=1)\n",
    "    color_val = colors[i]\n",
    "    ax.fill_between(x, upper, lower, color=cmap(color_val), alpha=.8)\n",
    "\n",
    "ax.axhline(1.0, c=\"k\", lw=1, linestyle=\"--\")\n",
    "fig.set_facecolor('w') \"\"\""
   ]
  }
 ],
 "metadata": {
  "kernelspec": {
   "display_name": "Python 3",
   "language": "python",
   "name": "python3"
  },
  "language_info": {
   "codemirror_mode": {
    "name": "ipython",
    "version": 3
   },
   "file_extension": ".py",
   "mimetype": "text/x-python",
   "name": "python",
   "nbconvert_exporter": "python",
   "pygments_lexer": "ipython3",
   "version": "3.7.6"
  }
 },
 "nbformat": 4,
 "nbformat_minor": 4
}
